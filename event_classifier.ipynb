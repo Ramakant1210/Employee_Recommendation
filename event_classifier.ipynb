{
 "cells": [
  {
   "cell_type": "markdown",
   "metadata": {},
   "source": [
    "### Importing libraries  "
   ]
  },
  {
   "cell_type": "code",
   "execution_count": 1,
   "metadata": {},
   "outputs": [],
   "source": [
    "import numpy as np\n",
    "import pandas as pd\n",
    "import csv\n",
    "from sklearn.linear_model import LogisticRegression\n",
    "from sklearn.neighbors import KNeighborsClassifier"
   ]
  },
  {
   "cell_type": "code",
   "execution_count": 2,
   "metadata": {},
   "outputs": [],
   "source": [
    "# reading csv file\n",
    "data = pd.read_csv(\"CCMLEmployeeData.csv\")          "
   ]
  },
  {
   "cell_type": "code",
   "execution_count": 3,
   "metadata": {},
   "outputs": [
    {
     "data": {
      "text/plain": [
       "pandas.core.frame.DataFrame"
      ]
     },
     "execution_count": 3,
     "metadata": {},
     "output_type": "execute_result"
    }
   ],
   "source": [
    "type(data)"
   ]
  },
  {
   "cell_type": "code",
   "execution_count": 4,
   "metadata": {},
   "outputs": [
    {
     "data": {
      "text/html": [
       "<div>\n",
       "<style scoped>\n",
       "    .dataframe tbody tr th:only-of-type {\n",
       "        vertical-align: middle;\n",
       "    }\n",
       "\n",
       "    .dataframe tbody tr th {\n",
       "        vertical-align: top;\n",
       "    }\n",
       "\n",
       "    .dataframe thead th {\n",
       "        text-align: right;\n",
       "    }\n",
       "</style>\n",
       "<table border=\"1\" class=\"dataframe\">\n",
       "  <thead>\n",
       "    <tr style=\"text-align: right;\">\n",
       "      <th></th>\n",
       "      <th>Name</th>\n",
       "      <th>Domain</th>\n",
       "      <th>Event1</th>\n",
       "      <th>Event2</th>\n",
       "    </tr>\n",
       "  </thead>\n",
       "  <tbody>\n",
       "    <tr>\n",
       "      <th>0</th>\n",
       "      <td>Bryan Brock</td>\n",
       "      <td>Management</td>\n",
       "      <td>Jobs</td>\n",
       "      <td>Hackathons</td>\n",
       "    </tr>\n",
       "    <tr>\n",
       "      <th>1</th>\n",
       "      <td>Joseph Sullivan</td>\n",
       "      <td>Coding</td>\n",
       "      <td>Certifications</td>\n",
       "      <td>Webinars</td>\n",
       "    </tr>\n",
       "    <tr>\n",
       "      <th>2</th>\n",
       "      <td>Sherri Dawson</td>\n",
       "      <td>Security</td>\n",
       "      <td>Internships</td>\n",
       "      <td>Fests</td>\n",
       "    </tr>\n",
       "    <tr>\n",
       "      <th>3</th>\n",
       "      <td>Dustin Ferguson</td>\n",
       "      <td>Hardware</td>\n",
       "      <td>Competitions</td>\n",
       "      <td>Webinars</td>\n",
       "    </tr>\n",
       "    <tr>\n",
       "      <th>4</th>\n",
       "      <td>Kayla Young</td>\n",
       "      <td>Web Development</td>\n",
       "      <td>Expos</td>\n",
       "      <td>Certifications</td>\n",
       "    </tr>\n",
       "  </tbody>\n",
       "</table>\n",
       "</div>"
      ],
      "text/plain": [
       "              Name           Domain          Event1          Event2\n",
       "0      Bryan Brock       Management            Jobs      Hackathons\n",
       "1  Joseph Sullivan           Coding  Certifications        Webinars\n",
       "2    Sherri Dawson         Security     Internships           Fests\n",
       "3  Dustin Ferguson         Hardware    Competitions        Webinars\n",
       "4      Kayla Young  Web Development           Expos  Certifications"
      ]
     },
     "execution_count": 4,
     "metadata": {},
     "output_type": "execute_result"
    }
   ],
   "source": [
    "#checking format of data from file\n",
    "data.head()                      "
   ]
  },
  {
   "cell_type": "markdown",
   "metadata": {},
   "source": [
    "## Using bag of words method for finding domains "
   ]
  },
  {
   "cell_type": "code",
   "execution_count": 5,
   "metadata": {},
   "outputs": [],
   "source": [
    "#making list of all domains in dataset\n",
    "domains = list(set(data['Domain']))"
   ]
  },
  {
   "cell_type": "code",
   "execution_count": 6,
   "metadata": {},
   "outputs": [
    {
     "data": {
      "text/plain": [
       "list"
      ]
     },
     "execution_count": 6,
     "metadata": {},
     "output_type": "execute_result"
    }
   ],
   "source": [
    "type(domains)"
   ]
  },
  {
   "cell_type": "code",
   "execution_count": 7,
   "metadata": {},
   "outputs": [
    {
     "data": {
      "text/plain": [
       "['Machine Learning',\n",
       " 'Higher Education',\n",
       " 'Python',\n",
       " 'Other',\n",
       " 'Hardware',\n",
       " 'Coding',\n",
       " 'Data Science',\n",
       " 'Networking',\n",
       " 'Security',\n",
       " 'Java',\n",
       " 'Web Development',\n",
       " 'Cloud Computing',\n",
       " 'IoT',\n",
       " 'Software Architecture',\n",
       " 'Development Processes',\n",
       " 'Blockchain',\n",
       " 'Artificial Intelligence',\n",
       " 'C',\n",
       " 'JavaScript',\n",
       " 'Finance',\n",
       " 'Mobile Applications',\n",
       " 'Management',\n",
       " 'C++']"
      ]
     },
     "execution_count": 7,
     "metadata": {},
     "output_type": "execute_result"
    }
   ],
   "source": [
    "domains"
   ]
  },
  {
   "cell_type": "markdown",
   "metadata": {},
   "source": [
    "### Similar to domain implementation for events for event1 and event2 combinely"
   ]
  },
  {
   "cell_type": "code",
   "execution_count": 8,
   "metadata": {},
   "outputs": [],
   "source": [
    "events = list(set(data['Event1']).union(set(data['Event2'])))"
   ]
  },
  {
   "cell_type": "code",
   "execution_count": 9,
   "metadata": {},
   "outputs": [
    {
     "data": {
      "text/plain": [
       "list"
      ]
     },
     "execution_count": 9,
     "metadata": {},
     "output_type": "execute_result"
    }
   ],
   "source": [
    "type(events)"
   ]
  },
  {
   "cell_type": "code",
   "execution_count": 10,
   "metadata": {},
   "outputs": [
    {
     "data": {
      "text/plain": [
       "['Jobs',\n",
       " 'Expos',\n",
       " 'Talks',\n",
       " 'Hackathons',\n",
       " 'Competitions',\n",
       " 'Seminars',\n",
       " 'Fests',\n",
       " 'Certifications',\n",
       " 'Courses',\n",
       " 'Internships',\n",
       " 'Workshops',\n",
       " 'Trainings',\n",
       " 'Webinars']"
      ]
     },
     "execution_count": 10,
     "metadata": {},
     "output_type": "execute_result"
    }
   ],
   "source": [
    "events"
   ]
  },
  {
   "cell_type": "markdown",
   "metadata": {},
   "source": [
    "#### Domain model"
   ]
  },
  {
   "cell_type": "code",
   "execution_count": 11,
   "metadata": {},
   "outputs": [],
   "source": [
    "#function for checking domain in input exists or not\n",
    "\n",
    "def domain_match(s1, s2):\n",
    "    if(s1 == s2):\n",
    "        return True\n",
    "    else:\n",
    "        return False\n",
    "\n",
    "def get_domain_feature(sentence):\n",
    "    \n",
    "    feature = np.zeros(len(domains))\n",
    "    words = sentence.split()\n",
    "    for word in words:\n",
    "        for i, ft in enumerate(domains):\n",
    "            if(domain_match(ft.split()[0].lower(), word.lower())):\n",
    "                feature[i] = feature[i] + 1\n",
    "                break\n",
    "    return feature.reshape(1, -1)"
   ]
  },
  {
   "cell_type": "code",
   "execution_count": 12,
   "metadata": {},
   "outputs": [],
   "source": [
    "f = get_domain_feature(\"Certification program in Python and IoT and software architecture\")"
   ]
  },
  {
   "cell_type": "code",
   "execution_count": 13,
   "metadata": {},
   "outputs": [
    {
     "data": {
      "text/plain": [
       "array([[0., 0., 1., 0., 0., 0., 0., 0., 0., 0., 0., 0., 1., 1., 0., 0.,\n",
       "        0., 0., 0., 0., 0., 0., 0.]])"
      ]
     },
     "execution_count": 13,
     "metadata": {},
     "output_type": "execute_result"
    }
   ],
   "source": [
    "f"
   ]
  },
  {
   "cell_type": "code",
   "execution_count": 14,
   "metadata": {},
   "outputs": [
    {
     "data": {
      "text/plain": [
       "(1, 23)"
      ]
     },
     "execution_count": 14,
     "metadata": {},
     "output_type": "execute_result"
    }
   ],
   "source": [
    "f.shape"
   ]
  },
  {
   "cell_type": "code",
   "execution_count": 15,
   "metadata": {},
   "outputs": [],
   "source": [
    "#creating sample training data\n",
    "dataset = np.zeros((len(domains), len(domains) + 1))\n",
    "for i in range(len(domains)):\n",
    "    dataset[i][i] = 1\n",
    "    dataset[i][len(domains)] = i"
   ]
  },
  {
   "cell_type": "code",
   "execution_count": 16,
   "metadata": {},
   "outputs": [
    {
     "data": {
      "text/plain": [
       "(23, 24)"
      ]
     },
     "execution_count": 16,
     "metadata": {},
     "output_type": "execute_result"
    }
   ],
   "source": [
    "dataset.shape"
   ]
  },
  {
   "cell_type": "code",
   "execution_count": 17,
   "metadata": {},
   "outputs": [],
   "source": [
    "x = dataset[:, :-1]"
   ]
  },
  {
   "cell_type": "code",
   "execution_count": 18,
   "metadata": {},
   "outputs": [
    {
     "data": {
      "text/plain": [
       "(23, 23)"
      ]
     },
     "execution_count": 18,
     "metadata": {},
     "output_type": "execute_result"
    }
   ],
   "source": [
    "x.shape"
   ]
  },
  {
   "cell_type": "code",
   "execution_count": 19,
   "metadata": {},
   "outputs": [],
   "source": [
    "y = dataset[:, -1].reshape(-1, 1)"
   ]
  },
  {
   "cell_type": "code",
   "execution_count": 20,
   "metadata": {},
   "outputs": [
    {
     "data": {
      "text/plain": [
       "(23, 1)"
      ]
     },
     "execution_count": 20,
     "metadata": {},
     "output_type": "execute_result"
    }
   ],
   "source": [
    "y.shape"
   ]
  },
  {
   "cell_type": "code",
   "execution_count": null,
   "metadata": {},
   "outputs": [],
   "source": []
  },
  {
   "cell_type": "code",
   "execution_count": 21,
   "metadata": {},
   "outputs": [
    {
     "name": "stderr",
     "output_type": "stream",
     "text": [
      "C:\\Users\\Ramakant\\anaconda3\\lib\\site-packages\\sklearn\\utils\\validation.py:760: DataConversionWarning: A column-vector y was passed when a 1d array was expected. Please change the shape of y to (n_samples, ), for example using ravel().\n",
      "  y = column_or_1d(y, warn=True)\n"
     ]
    },
    {
     "data": {
      "text/plain": [
       "LogisticRegression(C=1.0, class_weight=None, dual=False, fit_intercept=True,\n",
       "                   intercept_scaling=1, l1_ratio=None, max_iter=100,\n",
       "                   multi_class='auto', n_jobs=None, penalty='l2',\n",
       "                   random_state=None, solver='lbfgs', tol=0.0001, verbose=0,\n",
       "                   warm_start=False)"
      ]
     },
     "execution_count": 21,
     "metadata": {},
     "output_type": "execute_result"
    }
   ],
   "source": [
    "LR = LogisticRegression()\n",
    "LR.fit(x, y)"
   ]
  },
  {
   "cell_type": "code",
   "execution_count": 22,
   "metadata": {},
   "outputs": [
    {
     "data": {
      "text/plain": [
       "'Machine Learning'"
      ]
     },
     "execution_count": 22,
     "metadata": {},
     "output_type": "execute_result"
    }
   ],
   "source": [
    "domains[int(LR.predict(get_domain_feature(\"Machine Learning Certification\"))[0])]"
   ]
  },
  {
   "cell_type": "markdown",
   "metadata": {},
   "source": [
    "#### Event Model"
   ]
  },
  {
   "cell_type": "code",
   "execution_count": 77,
   "metadata": {},
   "outputs": [],
   "source": [
    "#function to check particular event in input exists in dataset or not\n",
    "\n",
    "def event_match(s1, s2):\n",
    "    if(s1 == s2):\n",
    "        return True\n",
    "    else:\n",
    "        return False\n",
    "\n",
    "def get_event_feature(sentence):\n",
    "    feature = np.zeros(len(events))\n",
    "    words = sentence.split()\n",
    "    for word in words:\n",
    "        for i, ft in enumerate(events):\n",
    "            if(event_match(ft.lower(), word.lower())):\n",
    "                feature[i] = feature[i] + 1\n",
    "                break\n",
    "        \n",
    "    return feature.reshape(1, -1)"
   ]
  },
  {
   "cell_type": "code",
   "execution_count": 78,
   "metadata": {},
   "outputs": [],
   "source": [
    "#creating sample training data\n",
    "ev_dataset = np.zeros((len(events), len(events) + 1))\n",
    "for i in range(len(events)):\n",
    "    ev_dataset[i][i] = 1\n",
    "    ev_dataset[i][len(events)] = i"
   ]
  },
  {
   "cell_type": "code",
   "execution_count": 79,
   "metadata": {},
   "outputs": [
    {
     "name": "stdout",
     "output_type": "stream",
     "text": [
      "[[0. 0. 0. 0. 0. 0. 0. 0. 0. 1. 0. 0. 0.]]\n"
     ]
    }
   ],
   "source": [
    "sen = 'Python Internships available'\n",
    "t = get_event_feature(sen)\n",
    "print(t)"
   ]
  },
  {
   "cell_type": "code",
   "execution_count": 80,
   "metadata": {},
   "outputs": [
    {
     "data": {
      "text/plain": [
       "(13, 14)"
      ]
     },
     "execution_count": 80,
     "metadata": {},
     "output_type": "execute_result"
    }
   ],
   "source": [
    "ev_dataset.shape"
   ]
  },
  {
   "cell_type": "code",
   "execution_count": 81,
   "metadata": {},
   "outputs": [],
   "source": [
    "event_x = ev_dataset[:, :-1]"
   ]
  },
  {
   "cell_type": "code",
   "execution_count": 82,
   "metadata": {},
   "outputs": [
    {
     "data": {
      "text/plain": [
       "(13, 13)"
      ]
     },
     "execution_count": 82,
     "metadata": {},
     "output_type": "execute_result"
    }
   ],
   "source": [
    "event_x.shape"
   ]
  },
  {
   "cell_type": "code",
   "execution_count": 83,
   "metadata": {},
   "outputs": [],
   "source": [
    "event_y = ev_dataset[:, -1].reshape(-1, 1)"
   ]
  },
  {
   "cell_type": "code",
   "execution_count": 84,
   "metadata": {},
   "outputs": [
    {
     "data": {
      "text/plain": [
       "(13, 1)"
      ]
     },
     "execution_count": 84,
     "metadata": {},
     "output_type": "execute_result"
    }
   ],
   "source": [
    "event_y.shape"
   ]
  },
  {
   "cell_type": "code",
   "execution_count": 85,
   "metadata": {},
   "outputs": [
    {
     "name": "stderr",
     "output_type": "stream",
     "text": [
      "C:\\Users\\Ramakant\\anaconda3\\lib\\site-packages\\sklearn\\utils\\validation.py:760: DataConversionWarning: A column-vector y was passed when a 1d array was expected. Please change the shape of y to (n_samples, ), for example using ravel().\n",
      "  y = column_or_1d(y, warn=True)\n"
     ]
    },
    {
     "data": {
      "text/plain": [
       "LogisticRegression(C=1.0, class_weight=None, dual=False, fit_intercept=True,\n",
       "                   intercept_scaling=1, l1_ratio=None, max_iter=100,\n",
       "                   multi_class='auto', n_jobs=None, penalty='l2',\n",
       "                   random_state=None, solver='lbfgs', tol=0.0001, verbose=0,\n",
       "                   warm_start=False)"
      ]
     },
     "execution_count": 85,
     "metadata": {},
     "output_type": "execute_result"
    }
   ],
   "source": [
    "event_LR = LogisticRegression()\n",
    "event_LR.fit(event_x, event_y)"
   ]
  },
  {
   "cell_type": "code",
   "execution_count": 86,
   "metadata": {},
   "outputs": [
    {
     "name": "stdout",
     "output_type": "stream",
     "text": [
      "9\n"
     ]
    }
   ],
   "source": [
    "events[int(event_LR.predict(get_event_feature(\"Python Internships available!!\"))[0])]\n",
    "print(int(event_LR.predict(get_event_feature(\"Python Internships available!!\"))[0]))"
   ]
  },
  {
   "cell_type": "markdown",
   "metadata": {},
   "source": [
    "#### Iterate through the employee dataset to output the names"
   ]
  },
  {
   "cell_type": "code",
   "execution_count": 87,
   "metadata": {},
   "outputs": [],
   "source": [
    "event_name = \"Internships in IoT and Machine learning\""
   ]
  },
  {
   "cell_type": "code",
   "execution_count": 88,
   "metadata": {},
   "outputs": [],
   "source": [
    "def get_recommendation(event_name):\n",
    "    emp = list()\n",
    "    print(event_name)\n",
    "    domain = domains[int(LR.predict(get_domain_feature(event_name))[0])]\n",
    "    event = events[int(event_LR.predict(get_event_feature(event_name))[0])]\n",
    "    print(domain,event)\n",
    "\n",
    "    n = data.shape[0]\n",
    "    #print(n)\n",
    "\n",
    "    for i in range(n):\n",
    "        if(data.iloc[i, 1] == domain and (data.iloc[i, 2] == event or data.iloc[i, 3] == event)):\n",
    "            emp.append(data.iloc[i, 0])\n",
    "    return emp"
   ]
  },
  {
   "cell_type": "markdown",
   "metadata": {},
   "source": [
    "### Iterate through input csv file for getting output and apply get_recommendation method"
   ]
  },
  {
   "cell_type": "code",
   "execution_count": 89,
   "metadata": {},
   "outputs": [
    {
     "name": "stdout",
     "output_type": "stream",
     "text": [
      "Python webinars available!!\n",
      "Python Webinars\n",
      "Iot Certifications available\n",
      "IoT Certifications\n",
      "Machine Learning internships programme starting from next week\n",
      "Machine Learning Internships\n",
      "Learn software architecture and get certifications\n",
      "Software Architecture Certifications\n",
      "Jobs are available for C++ language students\n",
      "C++ Jobs\n",
      "Certifications available in networking in 5000 only\n",
      "Networking Certifications\n",
      "Participate for Data science hackathons\n",
      "Data Science Hackathons\n",
      "Finance fests are arranged for students\n",
      "Finance Fests\n",
      "Attend coding talks to improve your knowledge\n",
      "Coding Talks\n"
     ]
    }
   ],
   "source": [
    "db = pd.read_csv('Input.csv')\n",
    "\n",
    "db['employee'] = db['sentence'].apply(get_recommendation)"
   ]
  },
  {
   "cell_type": "code",
   "execution_count": 96,
   "metadata": {},
   "outputs": [
    {
     "data": {
      "text/html": [
       "<div>\n",
       "<style scoped>\n",
       "    .dataframe tbody tr th:only-of-type {\n",
       "        vertical-align: middle;\n",
       "    }\n",
       "\n",
       "    .dataframe tbody tr th {\n",
       "        vertical-align: top;\n",
       "    }\n",
       "\n",
       "    .dataframe thead th {\n",
       "        text-align: right;\n",
       "    }\n",
       "</style>\n",
       "<table border=\"1\" class=\"dataframe\">\n",
       "  <thead>\n",
       "    <tr style=\"text-align: right;\">\n",
       "      <th></th>\n",
       "      <th>sentence</th>\n",
       "      <th>employee</th>\n",
       "    </tr>\n",
       "  </thead>\n",
       "  <tbody>\n",
       "    <tr>\n",
       "      <th>0</th>\n",
       "      <td>Python webinars available!!</td>\n",
       "      <td>[Michael Alvarado, Carol Larson]</td>\n",
       "    </tr>\n",
       "    <tr>\n",
       "      <th>1</th>\n",
       "      <td>Iot Certifications available</td>\n",
       "      <td>[Curtis Ortega]</td>\n",
       "    </tr>\n",
       "    <tr>\n",
       "      <th>2</th>\n",
       "      <td>Machine Learning internships programme startin...</td>\n",
       "      <td>[Matthew Martinez, Jasmine Brown, Sharon Mitch...</td>\n",
       "    </tr>\n",
       "    <tr>\n",
       "      <th>3</th>\n",
       "      <td>Learn software architecture and get certificat...</td>\n",
       "      <td>[Virginia Lucas]</td>\n",
       "    </tr>\n",
       "    <tr>\n",
       "      <th>4</th>\n",
       "      <td>Jobs are available for C++ language students</td>\n",
       "      <td>[Michael Parrish, Gail Duran]</td>\n",
       "    </tr>\n",
       "    <tr>\n",
       "      <th>5</th>\n",
       "      <td>Certifications available in networking in 5000...</td>\n",
       "      <td>[Cassandra Meza, Valerie Snow, Wyatt Cruz]</td>\n",
       "    </tr>\n",
       "    <tr>\n",
       "      <th>6</th>\n",
       "      <td>Participate for Data science hackathons</td>\n",
       "      <td>[Adam Richards, Daniel Johnson]</td>\n",
       "    </tr>\n",
       "    <tr>\n",
       "      <th>7</th>\n",
       "      <td>Finance fests are arranged for students</td>\n",
       "      <td>[Lisa Roberts, William Rosales, James Cole]</td>\n",
       "    </tr>\n",
       "    <tr>\n",
       "      <th>8</th>\n",
       "      <td>Attend coding talks to improve your knowledge</td>\n",
       "      <td>[Mary Lewis, Andre Elliott]</td>\n",
       "    </tr>\n",
       "  </tbody>\n",
       "</table>\n",
       "</div>"
      ],
      "text/plain": [
       "                                            sentence  \\\n",
       "0                        Python webinars available!!   \n",
       "1                       Iot Certifications available   \n",
       "2  Machine Learning internships programme startin...   \n",
       "3  Learn software architecture and get certificat...   \n",
       "4       Jobs are available for C++ language students   \n",
       "5  Certifications available in networking in 5000...   \n",
       "6            Participate for Data science hackathons   \n",
       "7            Finance fests are arranged for students   \n",
       "8      Attend coding talks to improve your knowledge   \n",
       "\n",
       "                                            employee  \n",
       "0                   [Michael Alvarado, Carol Larson]  \n",
       "1                                    [Curtis Ortega]  \n",
       "2  [Matthew Martinez, Jasmine Brown, Sharon Mitch...  \n",
       "3                                   [Virginia Lucas]  \n",
       "4                      [Michael Parrish, Gail Duran]  \n",
       "5         [Cassandra Meza, Valerie Snow, Wyatt Cruz]  \n",
       "6                    [Adam Richards, Daniel Johnson]  \n",
       "7        [Lisa Roberts, William Rosales, James Cole]  \n",
       "8                        [Mary Lewis, Andre Elliott]  "
      ]
     },
     "execution_count": 96,
     "metadata": {},
     "output_type": "execute_result"
    }
   ],
   "source": [
    "db.head(9)"
   ]
  },
  {
   "cell_type": "code",
   "execution_count": 91,
   "metadata": {},
   "outputs": [],
   "source": [
    "#file = open('employeeData.csv','w')"
   ]
  },
  {
   "cell_type": "code",
   "execution_count": 92,
   "metadata": {},
   "outputs": [],
   "source": [
    "#csv_writer = csv.writer(file)"
   ]
  },
  {
   "cell_type": "code",
   "execution_count": 93,
   "metadata": {},
   "outputs": [
    {
     "name": "stdout",
     "output_type": "stream",
     "text": [
      "18\n"
     ]
    }
   ],
   "source": [
    "#csv_writer.writerows('employee')\n",
    "print(db.size)"
   ]
  },
  {
   "cell_type": "markdown",
   "metadata": {},
   "source": [
    "### Store output in CSV file as output file with two columns as input sentence and recommended employees "
   ]
  },
  {
   "cell_type": "code",
   "execution_count": 94,
   "metadata": {},
   "outputs": [],
   "source": [
    "\n",
    "with open('Output.csv', 'w', newline='') as file:\n",
    "    writer = csv.writer(file)\n",
    "    writer.writerow([\"Sentence\", \"Employee\"])\n",
    "    for i in range(db.size):\n",
    "        try:\n",
    "            writer.writerow([str(db['sentence'][i]),str(db['employee'][i])])\n",
    "        except:\n",
    "            continue\n",
    "    file.close()"
   ]
  },
  {
   "cell_type": "markdown",
   "metadata": {},
   "source": [
    "### Reading output file to confirm data stored successfully ..... "
   ]
  },
  {
   "cell_type": "code",
   "execution_count": 95,
   "metadata": {},
   "outputs": [
    {
     "name": "stdout",
     "output_type": "stream",
     "text": [
      "Printing data from CSV file made as an output file.........\n",
      "\n",
      "1) Sentence:- Sentence \n",
      " Employees:- ['Employee\\n']\n",
      "2) Sentence:- Python webinars available!! \n",
      " Employees:- ['\"[\\'Michael Alvarado\\'', ' \\'Carol Larson\\']\"\\n']\n",
      "3) Sentence:- Iot Certifications available \n",
      " Employees:- [\"['Curtis Ortega']\\n\"]\n",
      "4) Sentence:- Machine Learning internships programme starting from next week \n",
      " Employees:- ['\"[\\'Matthew Martinez\\'', \" 'Jasmine Brown'\", \" 'Sharon Mitchell'\", ' \\'Stacy Jones\\']\"\\n']\n",
      "5) Sentence:- Learn software architecture and get certifications \n",
      " Employees:- [\"['Virginia Lucas']\\n\"]\n",
      "6) Sentence:- Jobs are available for C++ language students \n",
      " Employees:- ['\"[\\'Michael Parrish\\'', ' \\'Gail Duran\\']\"\\n']\n",
      "7) Sentence:- Certifications available in networking in 5000 only \n",
      " Employees:- ['\"[\\'Cassandra Meza\\'', \" 'Valerie Snow'\", ' \\'Wyatt Cruz\\']\"\\n']\n",
      "8) Sentence:- Participate for Data science hackathons \n",
      " Employees:- ['\"[\\'Adam Richards\\'', ' \\'Daniel Johnson\\']\"\\n']\n",
      "9) Sentence:- Finance fests are arranged for students \n",
      " Employees:- ['\"[\\'Lisa Roberts\\'', \" 'William Rosales'\", ' \\'James Cole\\']\"\\n']\n",
      "10) Sentence:- Attend coding talks to improve your knowledge \n",
      " Employees:- ['\"[\\'Mary Lewis\\'', ' \\'Andre Elliott\\']\"\\n']\n",
      "\n",
      "Whole Data printed........\n"
     ]
    }
   ],
   "source": [
    "file = open('Output.csv','r')\n",
    "print('Printing data from CSV file made as an output file.........')\n",
    "print('')\n",
    "for i,row in enumerate(file):\n",
    "    r = row.split(',')\n",
    "    print(str((i+1))+') Sentence:-',r[0],'\\n','Employees:-',r[1:])\n",
    "print('')\n",
    "print('Whole Data printed........')\n",
    "file.close()"
   ]
  },
  {
   "cell_type": "code",
   "execution_count": null,
   "metadata": {},
   "outputs": [],
   "source": []
  }
 ],
 "metadata": {
  "kernelspec": {
   "display_name": "Python 3",
   "language": "python",
   "name": "python3"
  },
  "language_info": {
   "codemirror_mode": {
    "name": "ipython",
    "version": 3
   },
   "file_extension": ".py",
   "mimetype": "text/x-python",
   "name": "python",
   "nbconvert_exporter": "python",
   "pygments_lexer": "ipython3",
   "version": "3.7.6"
  }
 },
 "nbformat": 4,
 "nbformat_minor": 4
}
